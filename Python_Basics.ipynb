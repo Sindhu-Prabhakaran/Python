{
  "nbformat": 4,
  "nbformat_minor": 0,
  "metadata": {
    "colab": {
      "provenance": []
    },
    "kernelspec": {
      "name": "python3",
      "display_name": "Python 3"
    },
    "language_info": {
      "name": "python"
    }
  },
  "cells": [
    {
      "cell_type": "code",
      "execution_count": 1,
      "metadata": {
        "colab": {
          "base_uri": "https://localhost:8080/"
        },
        "id": "B2Z1nkg5i2mX",
        "outputId": "1421c119-5354-4743-f70d-9cb017d55a3d"
      },
      "outputs": [
        {
          "output_type": "stream",
          "name": "stdout",
          "text": [
            "Welcome to Assignment 1\n"
          ]
        }
      ],
      "source": [
        "print(\"Welcome to Assignment 1\");"
      ]
    },
    {
      "cell_type": "code",
      "source": [
        "text = input(\"Enter the text here: \");\n",
        "print(text);"
      ],
      "metadata": {
        "colab": {
          "base_uri": "https://localhost:8080/"
        },
        "id": "nYROk1LdjLha",
        "outputId": "343e088a-8584-4828-cba9-8312667d1e5c"
      },
      "execution_count": 2,
      "outputs": [
        {
          "output_type": "stream",
          "name": "stdout",
          "text": [
            "Enter the text here: Welcome to Assignment \n",
            "Welcome to Assignment \n"
          ]
        }
      ]
    },
    {
      "cell_type": "code",
      "source": [
        "num1 = int(input(\"Enter the first num: \"));\n",
        "num2 = int(input(\"Enter the second num: \"));\n",
        "print(\"Num1 = \" + str(num1));\n",
        "print(\"Num2 = \"  + str(num2));\n",
        "add = num1 + num2;\n",
        "print(\"Add = \" + str(add));\n"
      ],
      "metadata": {
        "colab": {
          "base_uri": "https://localhost:8080/"
        },
        "id": "TDclFlqQjXfD",
        "outputId": "f58f3b23-d0e5-473e-9448-5a6e8e0de765"
      },
      "execution_count": 5,
      "outputs": [
        {
          "output_type": "stream",
          "name": "stdout",
          "text": [
            "Enter the first num: 10\n",
            "Enter the second num: 20\n",
            "Num1 = 10\n",
            "Num2 = 20\n",
            "Add = 30\n"
          ]
        }
      ]
    },
    {
      "cell_type": "code",
      "source": [
        "BMI = int(input(\"Enter the BMI Index : \"));\n",
        "if(BMI < 18):\n",
        "    print(\"Underweight\");\n",
        "elif(BMI < 25):\n",
        "    print(\"Normal\");\n",
        "elif(BMI < 30):\n",
        "    print(\"Overweight\");\n",
        "else:\n",
        "    print(\"Very Overweight\");"
      ],
      "metadata": {
        "id": "E4OpQUMik3Mb"
      },
      "execution_count": null,
      "outputs": []
    }
  ]
}