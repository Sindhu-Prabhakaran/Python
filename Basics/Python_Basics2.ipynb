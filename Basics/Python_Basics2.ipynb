{
  "nbformat": 4,
  "nbformat_minor": 0,
  "metadata": {
    "colab": {
      "provenance": []
    },
    "kernelspec": {
      "name": "python3",
      "display_name": "Python 3"
    },
    "language_info": {
      "name": "python"
    }
  },
  "cells": [
    {
      "cell_type": "code",
      "execution_count": 2,
      "metadata": {
        "colab": {
          "base_uri": "https://localhost:8080/"
        },
        "id": "9D6Qn176n6Lq",
        "outputId": "2457a20a-4f48-4548-9eb3-c60c5d426cbc"
      },
      "outputs": [
        {
          "output_type": "stream",
          "name": "stdout",
          "text": [
            "Enter the text: Hope AI\n",
            "Hope AI\n"
          ]
        }
      ],
      "source": [
        "text = input(\"Enter the text: \");\n",
        "print(text);"
      ]
    },
    {
      "cell_type": "code",
      "source": [
        "institue = input(\"Enter the institute name: \");\n",
        "print(institue);"
      ],
      "metadata": {
        "colab": {
          "base_uri": "https://localhost:8080/"
        },
        "id": "YdAhCMpaoSrK",
        "outputId": "8ec1808f-df2c-49a0-fc11-6930f6645620"
      },
      "execution_count": 3,
      "outputs": [
        {
          "output_type": "stream",
          "name": "stdout",
          "text": [
            "Enter the institute name: Hope AI\n",
            "Hope AI\n"
          ]
        }
      ]
    },
    {
      "cell_type": "code",
      "source": [
        "name = input(\"Enter your name: \");\n",
        "age = int(input(\"Enter your age: \"));\n",
        "school_name = input(\"Enter your school name: \");\n",
        "degree = input(\"Enter your degree: \");"
      ],
      "metadata": {
        "colab": {
          "base_uri": "https://localhost:8080/"
        },
        "id": "49mA4C0PosAg",
        "outputId": "4137cf4d-dbde-4ab2-a877-4664bc970f32"
      },
      "execution_count": 4,
      "outputs": [
        {
          "name": "stdout",
          "output_type": "stream",
          "text": [
            "Enter your name: Sindhu\n",
            "Enter your age: 35\n",
            "Enter your school name: JMHSS\n",
            "Enter your degree: BE EE\n"
          ]
        }
      ]
    },
    {
      "cell_type": "code",
      "source": [
        "a = int(input(\"Enter the first number: \"));\n",
        "b = int(input(\"Enter the second number: \" ));\n",
        "add = a + b;\n",
        "print(\"Addition : \" + str(add));"
      ],
      "metadata": {
        "colab": {
          "base_uri": "https://localhost:8080/"
        },
        "id": "MPwPB6-4pSOD",
        "outputId": "f2c0b018-51cb-443d-a8aa-0c5822656bcc"
      },
      "execution_count": 7,
      "outputs": [
        {
          "output_type": "stream",
          "name": "stdout",
          "text": [
            "Enter the first number: 10\n",
            "Enter the second number: 20\n",
            "Addition : 30\n"
          ]
        }
      ]
    },
    {
      "cell_type": "code",
      "source": [
        "a = int(input(\"Enter the first number: \"));\n",
        "b = int(input(\"Enter the second number: \" ));\n",
        "sub = a  - b;\n",
        "print(\"Subtraction : \" + str(sub));"
      ],
      "metadata": {
        "colab": {
          "base_uri": "https://localhost:8080/"
        },
        "id": "0ofD3Ik6pr7E",
        "outputId": "6d4ba0aa-8f79-4427-bb36-6da8eec04596"
      },
      "execution_count": 8,
      "outputs": [
        {
          "output_type": "stream",
          "name": "stdout",
          "text": [
            "Enter the first number: 10\n",
            "Enter the second number: 20\n",
            "Subtraction : -10\n"
          ]
        }
      ]
    },
    {
      "cell_type": "code",
      "source": [
        "a = int(input(\"Enter the first number: \"));\n",
        "b = int(input(\"Enter the second number: \" ));\n",
        "mul = a * b;\n",
        "print(\"Addition : \" + str(mul));"
      ],
      "metadata": {
        "colab": {
          "base_uri": "https://localhost:8080/"
        },
        "id": "eoGAG42Wp1NW",
        "outputId": "dda74750-608b-4b21-aedc-2f441a7e519c"
      },
      "execution_count": 9,
      "outputs": [
        {
          "output_type": "stream",
          "name": "stdout",
          "text": [
            "Enter the first number: 10\n",
            "Enter the second number: 20\n",
            "Addition : 200\n"
          ]
        }
      ]
    },
    {
      "cell_type": "code",
      "source": [
        "a = int(input(\"Enter the first number: \"));\n",
        "b = int(input(\"Enter the second number: \" ));\n",
        "if(b == 0):\n",
        "    print(\"Cannot divide by zero\");\n",
        "else:\n",
        "  div = a / b;\n",
        "  print(\"Addition : \" + str(div));"
      ],
      "metadata": {
        "colab": {
          "base_uri": "https://localhost:8080/"
        },
        "id": "YwoXb4XBp6A7",
        "outputId": "249ba59b-afb1-4ae8-8747-9c9f0f92d49d"
      },
      "execution_count": 13,
      "outputs": [
        {
          "output_type": "stream",
          "name": "stdout",
          "text": [
            "Enter the first number: 10\n",
            "Enter the second number: 5\n",
            "Addition : 2.0\n"
          ]
        }
      ]
    },
    {
      "cell_type": "code",
      "source": [
        "a = int(input(\"Enter the first number: \"))\n",
        "b = int(input(\"Enter the second number: \"))\n",
        "if(b == 0):\n",
        "    print(\"Cannot divide by zero\")\n",
        "else:\n",
        "  floorDiv = a // b;\n",
        "  print(\"Floor Division : \" + str(floorDiv))\n"
      ],
      "metadata": {
        "colab": {
          "base_uri": "https://localhost:8080/"
        },
        "id": "zoXTmlCDqZzk",
        "outputId": "a9045ff0-d18d-47d2-9c54-e7bde9276740"
      },
      "execution_count": 15,
      "outputs": [
        {
          "output_type": "stream",
          "name": "stdout",
          "text": [
            "Enter the first number: 10\n",
            "Enter the second number: 3\n",
            "Floor Division : 3\n"
          ]
        }
      ]
    },
    {
      "cell_type": "code",
      "source": [
        "a = int(input(\"Enter the first number: \"))\n",
        "b = int(input(\"Enter the second number: \"))\n",
        "mod = a % b;\n",
        "print(\"Modulo: \" + str(mod))\n"
      ],
      "metadata": {
        "colab": {
          "base_uri": "https://localhost:8080/"
        },
        "id": "HrYzEt2rqp9s",
        "outputId": "8bc36050-a93a-4124-de50-0a79afce28e9"
      },
      "execution_count": 16,
      "outputs": [
        {
          "output_type": "stream",
          "name": "stdout",
          "text": [
            "Enter the first number: 10\n",
            "Enter the second number: 3\n",
            "Modulo: 1\n"
          ]
        }
      ]
    },
    {
      "cell_type": "code",
      "source": [
        "\n",
        "a = int(input(\"Enter the first number: \"))\n",
        "b = int(input(\"Enter the second number: \"))\n",
        "power = a ** b;\n",
        "print(\"Power: \" + str(power))\n"
      ],
      "metadata": {
        "colab": {
          "base_uri": "https://localhost:8080/"
        },
        "id": "B2qTh2Kcq3Ef",
        "outputId": "d5c77ac1-1078-4847-f32e-5f217a949b32"
      },
      "execution_count": 17,
      "outputs": [
        {
          "output_type": "stream",
          "name": "stdout",
          "text": [
            "Enter the first number: 10\n",
            "Enter the second number: 2\n",
            "Power: 100\n"
          ]
        }
      ]
    }
  ]
}