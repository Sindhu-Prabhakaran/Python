{
  "nbformat": 4,
  "nbformat_minor": 0,
  "metadata": {
    "colab": {
      "provenance": []
    },
    "kernelspec": {
      "name": "python3",
      "display_name": "Python 3"
    },
    "language_info": {
      "name": "python"
    }
  },
  "cells": [
    {
      "cell_type": "code",
      "execution_count": 14,
      "metadata": {
        "id": "Ju2p3JqlVfWO"
      },
      "outputs": [],
      "source": [
        "class Methods():\n",
        "\n",
        "  def SubFields():\n",
        "    print(\"Sub-fields in AI are:\")\n",
        "    print(\"Machine Learning\")\n",
        "    print(\"Neural Networks\")\n",
        "    print(\"Vision\")\n",
        "    print(\"Robotics\")\n",
        "    print(\"Speech Processing\")\n",
        "    print(\"Natural Language Processing\")\n",
        "\n",
        "  def OddEven():\n",
        "    num=int(input(\"Enter a number:\"))\n",
        "    if(num%2==0):\n",
        "      print(num,\"is Even number\")\n",
        "    else:\n",
        "      print(num,\"is Odd number\")\n",
        "\n",
        "  def Eligible():\n",
        "    gender=input(\"Your Gender:\")\n",
        "    age=int(input(\"Your Age:\"))\n",
        "    if((gender ==\"female\" and age>=21) or (gender == \"male\" and age >= 25 )):\n",
        "      print(\"ELIGIBLE\")\n",
        "    else:\n",
        "      print(\"NOT ELIGIBLE\")\n",
        "\n",
        "  def percentage():\n",
        "     subjects = int(input(\"Enter the number of subject\"));\n",
        "     val = 1\n",
        "     total = 0;\n",
        "     for sub in range(1, subjects + 1):\n",
        "       mark = int(input(\"Enter the marks:\"))\n",
        "       print( \"mark \"+ str(val) + \" : \" + str(mark) );\n",
        "       val = val + 1;\n",
        "       total += mark;\n",
        "\n",
        "     print(\"Total : \", total);\n",
        "     print(\"Percentage : \", total / subjects);\n",
        "\n",
        "  def Traingle():\n",
        "    Height=int(input(\"Height:\"))\n",
        "    Breadth=int(input(\"Breadth:\"))\n",
        "    print(\"Area formula: (Height*Breadth)/2\")\n",
        "    print(\"Area of Triangle:\",(Height*Breadth)/2);"
      ]
    },
    {
      "cell_type": "code",
      "source": [
        "Methods.Traingle()\n"
      ],
      "metadata": {
        "colab": {
          "base_uri": "https://localhost:8080/"
        },
        "id": "Er3YGtpBg210",
        "outputId": "1a4a27e0-9b42-489d-d725-833023a16028"
      },
      "execution_count": 18,
      "outputs": [
        {
          "output_type": "stream",
          "name": "stdout",
          "text": [
            "Height:6\n",
            "Breadth:3\n",
            "Area formula: (Height*Breadth)/2\n",
            "Area of Triangle: 9.0\n"
          ]
        }
      ]
    },
    {
      "cell_type": "code",
      "source": [
        "Methods.SubFields();"
      ],
      "metadata": {
        "colab": {
          "base_uri": "https://localhost:8080/"
        },
        "id": "_rhG3wXRfSgi",
        "outputId": "6725cabb-d039-4af8-ace2-e48b5d7e2a8d"
      },
      "execution_count": 7,
      "outputs": [
        {
          "output_type": "stream",
          "name": "stdout",
          "text": [
            "Sub-fields in AI are:\n",
            "Machine Learning\n",
            "Neural Networks\n",
            "Vision\n",
            "Robotics\n",
            "Speech Processing\n",
            "Natural Language Processing\n"
          ]
        }
      ]
    },
    {
      "cell_type": "code",
      "source": [
        "# prompt: call oddeven method\n",
        "\n",
        "Methods.OddEven()\n"
      ],
      "metadata": {
        "colab": {
          "base_uri": "https://localhost:8080/"
        },
        "id": "UdcNIHr9gBhp",
        "outputId": "d8ae821e-e5c1-4114-afc3-e5c937fde3ff"
      },
      "execution_count": 10,
      "outputs": [
        {
          "output_type": "stream",
          "name": "stdout",
          "text": [
            "Enter a number:7\n",
            "7 is Odd number\n"
          ]
        }
      ]
    },
    {
      "cell_type": "code",
      "source": [
        "Methods.percentage()"
      ],
      "metadata": {
        "colab": {
          "base_uri": "https://localhost:8080/"
        },
        "id": "tZ8FFtyigKRh",
        "outputId": "1d430d45-6c2d-4343-f4a5-748b3ebac99a"
      },
      "execution_count": 15,
      "outputs": [
        {
          "output_type": "stream",
          "name": "stdout",
          "text": [
            "Enter the number of subject5\n",
            "Enter the marks:100\n",
            "mark 1 : 100\n",
            "Enter the marks:90\n",
            "mark 2 : 90\n",
            "Enter the marks:96\n",
            "mark 3 : 96\n",
            "Enter the marks:88\n",
            "mark 4 : 88\n",
            "Enter the marks:99\n",
            "mark 5 : 99\n",
            "Total :  473\n",
            "Percentage :  94.6\n"
          ]
        }
      ]
    },
    {
      "cell_type": "code",
      "source": [
        "Methods.Eligible()"
      ],
      "metadata": {
        "colab": {
          "base_uri": "https://localhost:8080/"
        },
        "id": "9eO4z6_Xgo3X",
        "outputId": "257d2b6a-d91b-4bfe-a9f1-934cbcd7f7ef"
      },
      "execution_count": 17,
      "outputs": [
        {
          "output_type": "stream",
          "name": "stdout",
          "text": [
            "Your Gender:female\n",
            "Your Age:22\n",
            "ELIGIBLE\n"
          ]
        }
      ]
    }
  ]
}