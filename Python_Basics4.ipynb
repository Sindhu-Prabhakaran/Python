{
  "nbformat": 4,
  "nbformat_minor": 0,
  "metadata": {
    "colab": {
      "provenance": []
    },
    "kernelspec": {
      "name": "python3",
      "display_name": "Python 3"
    },
    "language_info": {
      "name": "python"
    }
  },
  "cells": [
    {
      "cell_type": "code",
      "execution_count": 2,
      "metadata": {
        "colab": {
          "base_uri": "https://localhost:8080/"
        },
        "id": "zilzevXAsGsl",
        "outputId": "4fbacc2c-958b-4d1f-e9ac-d7f94aa32a29"
      },
      "outputs": [
        {
          "output_type": "stream",
          "name": "stdout",
          "text": [
            "Enter a number: 10\n",
            "Correct\n"
          ]
        }
      ],
      "source": [
        "num = int(input(\"Enter a number: \"));\n",
        "if(num == 10):\n",
        "  print(\"Correct\");\n",
        "else:\n",
        "  print(\"wrong\");"
      ]
    },
    {
      "cell_type": "code",
      "source": [
        "pwd = input(\"Enter the password: \");\n",
        "if(pwd == \"Hope@123\"):\n",
        "  print(\"Correct\");\n",
        "else:\n",
        "  print(\"wrong\");"
      ],
      "metadata": {
        "colab": {
          "base_uri": "https://localhost:8080/"
        },
        "id": "2O5dSxz-sdWm",
        "outputId": "efb7da49-ad42-4a7f-b49c-1bd8c3945713"
      },
      "execution_count": 5,
      "outputs": [
        {
          "output_type": "stream",
          "name": "stdout",
          "text": [
            "Enter the password: ret\n",
            "wrong\n"
          ]
        }
      ]
    },
    {
      "cell_type": "code",
      "source": [
        "age = int(input(\"Enter the age: \"));\n",
        "if(age < 18):\n",
        "  print(\"Children\");\n",
        "elif(age < 35):\n",
        "  print(\"Adult\");\n",
        "elif(age < 59):\n",
        "  print(\"Citizen\");\n",
        "else:\n",
        "  print(\"Senior Citizen\");\n",
        ""
      ],
      "metadata": {
        "colab": {
          "base_uri": "https://localhost:8080/"
        },
        "id": "9tgVJgmxstg8",
        "outputId": "a033317e-af67-493a-bf79-42ead4b332f3"
      },
      "execution_count": 6,
      "outputs": [
        {
          "output_type": "stream",
          "name": "stdout",
          "text": [
            "Enter the age: 50\n",
            "Citizen\n"
          ]
        }
      ]
    },
    {
      "cell_type": "code",
      "source": [
        "num = int(input(\"Enter the number: \"));\n",
        "if(num > 0):\n",
        "  print(\"Number is positive\");\n",
        "else:\n",
        "  print(\"Number is negative\");"
      ],
      "metadata": {
        "colab": {
          "base_uri": "https://localhost:8080/"
        },
        "id": "J2P4I_77szfN",
        "outputId": "0da188f8-60fb-422f-d9e1-b12720c0e118"
      },
      "execution_count": 7,
      "outputs": [
        {
          "output_type": "stream",
          "name": "stdout",
          "text": [
            "Enter the number: -4\n",
            "Number is negative\n"
          ]
        }
      ]
    },
    {
      "cell_type": "code",
      "source": [
        "num = int(input(\"Enter the number: \"));\n",
        "if(num % 5 == 0):\n",
        "  print(\"Yes, Number is divisible by 5\");\n",
        "else:\n",
        "  print(\"No, Number is not divisible by 5\");"
      ],
      "metadata": {
        "id": "oH3ZgSRqs4Um"
      },
      "execution_count": null,
      "outputs": []
    }
  ]
}